{
 "cells": [
  {
   "cell_type": "code",
   "execution_count": 5,
   "id": "a4b99b7e",
   "metadata": {},
   "outputs": [
    {
     "data": {
      "text/plain": [
       "[]"
      ]
     },
     "execution_count": 5,
     "metadata": {},
     "output_type": "execute_result"
    }
   ],
   "source": [
    "import tensorflow as tf\n",
    "\n",
    "\n",
    "# If you are going to use GPU, make sure the GPU in in the output\n",
    "tf.config.list_physical_devices('GPU')"
   ]
  },
  {
   "cell_type": "markdown",
   "id": "b297ad96",
   "metadata": {},
   "source": [
    "## 1. Data Processing"
   ]
  },
  {
   "cell_type": "code",
   "execution_count": 6,
   "id": "ba539002",
   "metadata": {},
   "outputs": [],
   "source": [
    "import sys\n",
    "\n",
    "\n",
    "def print_line(*args):\n",
    "    \"\"\" Inline print and go to the begining of line\n",
    "    \"\"\"\n",
    "    args1 = [str(arg) for arg in args]\n",
    "    str_ = ' '.join(args1)\n",
    "    print('\\r' + str_, end='')"
   ]
  },
  {
   "cell_type": "code",
   "execution_count": 7,
   "id": "82c1af74",
   "metadata": {},
   "outputs": [],
   "source": [
    "from typing import List, Tuple, Union\n",
    "\n",
    "import numpy as np"
   ]
  },
  {
   "cell_type": "markdown",
   "id": "71a4bdbc",
   "metadata": {},
   "source": [
    "### 1.1 Load data"
   ]
  },
  {
   "cell_type": "code",
   "execution_count": 8,
   "id": "ccf437af",
   "metadata": {},
   "outputs": [
    {
     "name": "stdout",
     "output_type": "stream",
     "text": [
      "['watching time chasers it obvious that it was made by a bunch of friends', 'maybe they were sitting around one day in film school and said hey let s pool our money together and make a really bad movie or something like that', 'what ever they said they still ended up making a really bad movie dull story bad script lame acting poor cinematography bottom of the barrel stock music etc', 'all corners were cut except the one that would have prevented this film s release', 'life s like that', 'i saw this film about years ago and remember it as being particularly nasty', 'i believe it is based on a true incident a young man breaks into a nurses home and rapes tortures and kills various women it is in black and white but saves the colour for one shocking shot at the end the film seems to be trying to make some political statement but it just comes across as confused and obscene avoid', 'minor spoilersin new york joan barnard elvire audrey is informed that her husband the archeologist arthur barnard john saxon was mysteriously murdered in italy while searching an etruscan tomb', 'joan decides to travel to italy in the company of her colleague who offers his support', 'once in italy she starts having visions relative to an ancient people and maggots many maggots']\n"
     ]
    }
   ],
   "source": [
    "import os\n",
    "import pickle\n",
    "\n",
    "# In this imdb review, each line is a sentence seperated by a space.\n",
    "sentences = pickle.load(open(os.path.join('a2-data', 'imdb_review.pickle'), 'rb'))\n",
    "print(sentences[:10])"
   ]
  },
  {
   "cell_type": "markdown",
   "id": "984b63fb",
   "metadata": {},
   "source": [
    "### 1.3 Tokenization\n",
    "\n",
    "In this section, you will implement a Tokenizer than can record all tokens in a vocabulary."
   ]
  },
  {
   "cell_type": "code",
   "execution_count": 61,
   "id": "66d2a9f1",
   "metadata": {},
   "outputs": [],
   "source": [
    "class Tokenizer:\n",
    "    def __init__(self, sos_token='<s>', eos_token='</s>', pad_token='<pad>', unk_token='<unk>', mask_token='<mask>'):\n",
    "        # Special tokens. Not used in Word2Vec\n",
    "        self.sos_token = sos_token\n",
    "        self.eos_token = eos_token\n",
    "        self.pad_token = pad_token\n",
    "        self.unk_token = unk_token\n",
    "        self.mask_token = mask_token\n",
    "        \n",
    "        self.vocab = { sos_token: 0, eos_token: 1, pad_token: 2, unk_token: 3, mask_token: 4 }  # token -> id\n",
    "        self.inverse_vocab = { 0: sos_token, 1: eos_token, 2: pad_token, 3: unk_token, 4: mask_token }  # id -> token\n",
    "        self.token_occurrence = { sos_token: 0, eos_token: 0, pad_token: 0, unk_token: 0, mask_token: 0 }  # token -> occurrence\n",
    "        \n",
    "    def __len__(self):\n",
    "        \"\"\" A magic method that enable program to know the number of tokens by calling:\n",
    "            ```python\n",
    "            tokenizer = Tokenizer()\n",
    "            num_tokens = len(tokenizer)\n",
    "            ```\n",
    "        \"\"\"\n",
    "        return len(self.vocab)\n",
    "        \n",
    "    def fit(self, sentences: List[str]):\n",
    "        \"\"\" Fit the tokenizer using all sentences.\n",
    "        1. Tokenize the sentence by splitting with spaces.\n",
    "        2. Record the occurrence of all tokens\n",
    "        3. Construct the token to index (self.vocab) map and the inversed map (self.inverse_vocab) based on the occurrence. The token with a higher occurrence has the smaller index\n",
    "        \n",
    "        Args:\n",
    "            sentences: All sentences in the dataset.\n",
    "        \"\"\"\n",
    "        n = len(sentences)\n",
    "        for i, sentence in enumerate(sentences):\n",
    "            if i % 100 == 0 or i == n - 1:\n",
    "                print_line('Fitting Tokenizer:', (i + 1), '/', n)\n",
    "            # Start your code here (Step 1 and 2)\n",
    "            tokens = sentence.split(\" \")\n",
    "            for token in tokens:\n",
    "                if token not in self.vocab:\n",
    "                    self.token_occurrence[token] = self.token_occurrence.get(token, 0) + 1\n",
    "#             print(self.token_occurrence)\n",
    "            # End\n",
    "        print_line('\\n')\n",
    "        token_occurrence = sorted(self.token_occurrence.items(), key=lambda e: e[1], reverse=True)\n",
    "        # Start your code here (Step 3, update self.vocab and self.inverse_vocab)\n",
    "        for idx, (token, _) in enumerate(token_occurrence):\n",
    "            self.vocab[token] = idx + 5\n",
    "            self.inverse_vocab[idx + 5] = token\n",
    "        # End\n",
    "        \n",
    "        print('The number of distinct tokens:', len(self.vocab))\n",
    "        \n",
    "    def encode(self, sentences: List[str]) -> List[List[int]]:\n",
    "        \"\"\" Encode the sentences into token ids\n",
    "            Note: 1. if a token in a sentence does not exist in the fit encoder, we will use the <unk> token to replace it.\n",
    "                  2. If the number of tokens in a sentence is less than two, we ignore this sentence.\n",
    "        Args:\n",
    "            sentences: Raw sentences\n",
    "        Returns:\n",
    "            sent_token_ids: A list of id list\n",
    "        \"\"\"\n",
    "        n = len(sentences)\n",
    "        sent_token_ids = []\n",
    "        for i, sentence in enumerate(sentences):\n",
    "            if i % 100 == 0 or i == n - 1:\n",
    "                print_line('Encoding with Tokenizer:', (i + 1), '/', n)\n",
    "            token_ids = []\n",
    "            # Start your code (encode)\n",
    "            tokens = sentence.split(\" \")\n",
    "            for token in tokens:\n",
    "                token_id = self.vocab.get(token, self.vocab[self.unk_token])\n",
    "                token_ids.append(token_id)\n",
    "            if len(token_ids) >= 2:\n",
    "                sent_token_ids.append(token_ids)\n",
    "            # End\n",
    "        print_line('\\n')\n",
    "        return sent_token_ids"
   ]
  },
  {
   "cell_type": "markdown",
   "id": "08f04863",
   "metadata": {},
   "source": [
    "#### Test your implementation by running the following cell."
   ]
  },
  {
   "cell_type": "code",
   "execution_count": 63,
   "id": "c18305f4",
   "metadata": {},
   "outputs": [
    {
     "name": "stdout",
     "output_type": "stream",
     "text": [
      "\r",
      "Fitting Tokenizer: 1 / 2\r",
      "Fitting Tokenizer: 2 / 2\r\n",
      "The number of distinct tokens: 44\n",
      "\n",
      "it : 2\n",
      "that : 2\n",
      "a : 2\n",
      "and : 2\n",
      "watching : 1\n",
      "time : 1\n",
      "chasers : 1\n",
      "obvious : 1\n",
      "was : 1\n",
      "made : 1\n",
      "\n",
      "\r",
      "Encoding with Tokenizer: 1 / 2\r",
      "Encoding with Tokenizer: 2 / 2\r\n",
      "\n",
      "watching time chasers it obvious that it was made by a bunch of friends ['watching', 'time', 'chasers', 'it', 'obvious', 'that', 'it', 'was', 'made', 'by', 'a', 'bunch', 'of', 'friends'] \n",
      "\n",
      "maybe they were sitting around one day in film school and said hey let s pool our money together and make a really bad movie or something like that ['maybe', 'they', 'were', 'sitting', 'around', 'one', 'day', 'in', 'film', 'school', 'and', 'said', 'hey', 'let', 's', 'pool', 'our', 'money', 'together', 'and', 'make', 'a', 'really', 'bad', 'movie', 'or', 'something', 'like', 'that'] \n",
      "\n"
     ]
    }
   ],
   "source": [
    "test_sentences = sentences[:2]\n",
    "tokenizer = Tokenizer()\n",
    "tokenizer.fit(test_sentences)\n",
    "print()\n",
    "\n",
    "token_occurrence = sorted(tokenizer.token_occurrence.items(), key=lambda e: e[1], reverse=True)\n",
    "for token, occurrence in token_occurrence[:10]:\n",
    "    print(token, ':', occurrence)\n",
    "print()\n",
    "sent_token_ids = tokenizer.encode(test_sentences)\n",
    "print()\n",
    "for test_sentence, token_ids in zip(test_sentences, sent_token_ids):\n",
    "    sentence = [tokenizer.inverse_vocab[token] for token in token_ids]\n",
    "    print(test_sentence, sentence, '\\n')"
   ]
  },
  {
   "cell_type": "markdown",
   "id": "4712d33e",
   "metadata": {},
   "source": [
    "Encode all sentences"
   ]
  },
  {
   "cell_type": "code",
   "execution_count": 64,
   "id": "f2bf326c",
   "metadata": {},
   "outputs": [
    {
     "name": "stdout",
     "output_type": "stream",
     "text": [
      "Fitting Tokenizer: 528199 / 528199\n",
      "The number of distinct tokens: 102300\n",
      "Encoding with Tokenizer: 528199 / 528199\n"
     ]
    }
   ],
   "source": [
    "tokenizer = Tokenizer()\n",
    "tokenizer.fit(sentences)\n",
    "sent_token_ids = tokenizer.encode(sentences)\n",
    "\n",
    "# Note: if you implement correctly, there will be about 100k tokens."
   ]
  },
  {
   "cell_type": "code",
   "execution_count": 65,
   "id": "9de558c6",
   "metadata": {},
   "outputs": [
    {
     "name": "stdout",
     "output_type": "stream",
     "text": [
      "max token number in a sentence: 767\n",
      "min token number in a sentence: 2\n",
      "avg token number in a sentence: 22.813560657451482\n"
     ]
    }
   ],
   "source": [
    "print('max token number in a sentence:', max(map(lambda e: len(e), sent_token_ids)))\n",
    "print('min token number in a sentence:', min(map(lambda e: len(e), sent_token_ids)))\n",
    "print('avg token number in a sentence:', sum(map(lambda e: len(e), sent_token_ids)) / len(sent_token_ids))"
   ]
  },
  {
   "cell_type": "code",
   "execution_count": 66,
   "id": "f9d0da00",
   "metadata": {},
   "outputs": [
    {
     "name": "stdout",
     "output_type": "stream",
     "text": [
      "the : 678333\n",
      "and : 329979\n",
      "a : 328341\n",
      "of : 293903\n",
      "to : 271514\n",
      "is : 214380\n",
      "it : 191411\n",
      "in : 188920\n",
      "i : 170761\n",
      "this : 150693\n"
     ]
    }
   ],
   "source": [
    "token_occurrence = sorted(tokenizer.token_occurrence.items(), key=lambda e: e[1], reverse=True)\n",
    "for token, occurrence in token_occurrence[:10]:\n",
    "    print(token, ':', occurrence)"
   ]
  },
  {
   "cell_type": "markdown",
   "id": "6be780b8",
   "metadata": {},
   "source": [
    "## 2. Training Data Generation \n",
    "### Positive Samples (5 Points)\n",
    "In this section, you are required to generate the positive training data for skip-gram.\n",
    "\n",
    "- Given a token sequence, for every center token, you need to use a window whose size is **2** to retrieve context words as positive pairs.\n",
    "    \n",
    "For example, given the token sequence \"The quick brown fox jumps over the lazy dog .\", when the center word is \"fox\", the context words are:\n",
    "$$\\text{The}~\\underbrace{\\text{quick brown}}_\\text{context words}~\\underbrace{\\text{fox}}_{\\text{center word}}~\\underbrace{\\text{jumps over}}_\\text{context words}~\\text{the lazy dog .}$$\n",
    "We can generate four positive pairs: (fox, quick), (fox, brown), (fox, jumps), (fox, over)."
   ]
  },
  {
   "cell_type": "code",
   "execution_count": 74,
   "id": "a000e7ca",
   "metadata": {},
   "outputs": [],
   "source": [
    "import random\n",
    "\n",
    "\n",
    "def positive_pairs_generator(sent_token_ids: List[List[int]], window_size: int = 2) -> np.ndarray:\n",
    "    \"\"\" Generate positive pairs: (center word, context word)\n",
    "    \n",
    "    Args:\n",
    "        sent_token_ids: List of token list. Each element is a token list (sentence)\n",
    "        window_size: the context window size. You should retrieve window size context words in the left and window size context words in the right.\n",
    "        \n",
    "    Yield:\n",
    "        center_word, context_word: a positive pair\n",
    "        \n",
    "    Note: this is a generator function which yields pairs. Do not return anything.\n",
    "    \"\"\"\n",
    "    n = len(sent_token_ids)\n",
    "    for t, token_ids in enumerate(sent_token_ids):\n",
    "        if t % 100 == 0 or t == n - 1:\n",
    "            print_line('Positive Pair Generation:', (t + 1), '/', n)\n",
    "        for i, center_word in enumerate(token_ids):\n",
    "            context_words = []\n",
    "            # Start your code here\n",
    "            # Append context words of center_word to context_words\n",
    "            start_idx = max(0, i - window_size)\n",
    "            end_idx = min(len(token_ids), i + window_size + 1)\n",
    "            context_words = [token_ids[j] for j in range(start_idx, end_idx) if j != i]\n",
    "            # End\n",
    "            for context_word in context_words:\n",
    "                yield center_word, context_word\n",
    "\n",
    "\n",
    "def save_train_file(sent_token_ids: List[List[int]], window_size: int = 2):\n",
    "    generator = positive_pairs_generator(sent_token_ids, window_size)\n",
    "    buffer_size = 100000\n",
    "    buffer = []\n",
    "    count = 0\n",
    "    with open(os.path.join('a2-data', 'word2vec_train_file.txt'), 'w') as train_file:\n",
    "        for center_word, context_words in generator:\n",
    "            count += 1\n",
    "            line = f'{center_word} {context_words}\\n'\n",
    "            buffer.append(line)\n",
    "            if len(buffer) == buffer_size:\n",
    "                random.shuffle(buffer)\n",
    "                train_file.writelines(buffer)\n",
    "                buffer = []\n",
    "        if len(buffer) > 0:\n",
    "            train_file.writelines(buffer)\n",
    "    print('\\n')\n",
    "    print(f'There are {count} pairs')\n",
    "    return count"
   ]
  },
  {
   "cell_type": "code",
   "execution_count": 75,
   "id": "87d9b543",
   "metadata": {},
   "outputs": [
    {
     "name": "stdout",
     "output_type": "stream",
     "text": [
      "Positive Pair Generation: 520373 / 520373\n",
      "\n",
      "There are 44364006 pairs\n"
     ]
    }
   ],
   "source": [
    "window_size = 2\n",
    "num_samples = save_train_file(sent_token_ids, window_size)\n",
    "\n",
    "# Note: if you implement correctly, there will be about 44M pairs."
   ]
  },
  {
   "cell_type": "markdown",
   "id": "30f30cb0",
   "metadata": {},
   "source": [
    "### Negative Samples \n",
    "\n",
    "We randomly select $K$ words from the vocabulary as negative samples."
   ]
  },
  {
   "cell_type": "code",
   "execution_count": 76,
   "id": "59987e65",
   "metadata": {},
   "outputs": [],
   "source": [
    "def get_negative_samples(vocab_size: int, batch_size: int, negative_sample_num: int) -> np.ndarray:\n",
    "    \"\"\" Generate negative words\n",
    "    \n",
    "    Args:\n",
    "        vocab_size: number of tokens in the vocabulary\n",
    "        batch_size: number of samples (center word) in a batch\n",
    "        negative_sample_num: number of negative words sampled for a center word\n",
    "        \n",
    "    Return:\n",
    "        negative_words: Shape of (batch_size x negative_sample_num)\n",
    "        \n",
    "    Note: 1. You should NOT sample special token in the vocabulary, i.e., the token ids range should be [5, vocab_size)\n",
    "          2. Hint: See numpy.random.choice. Read carefully for each parameter of this function\n",
    "    \"\"\"\n",
    "    negative_words = None\n",
    "    # Start your code here\n",
    "    negative_words = np.random.choice(np.arange(5, vocab_size), size=(batch_size, negative_sample_num), replace=True)\n",
    "    # End\n",
    "    return negative_words\n",
    "\n",
    "\n",
    "def train_data_generator(batch_size, vocab_size, negative_sample_num):\n",
    "    with open(os.path.join('a2-data', 'word2vec_train_file.txt')) as train_file:\n",
    "        while True:\n",
    "            batch_center_words, batch_context_words = [], []\n",
    "            for line in train_file:\n",
    "                center_word, context_word = line.strip().split()\n",
    "                batch_center_words.append(int(center_word))\n",
    "                batch_context_words.append(int(context_word))\n",
    "                if len(batch_center_words) == batch_size:\n",
    "                    negative_words = get_negative_samples(vocab_size, batch_size, negative_sample_num)\n",
    "                    yield batch_center_words, batch_context_words, negative_words\n",
    "                    batch_center_words, batch_context_words = [], []\n",
    "            train_file.seek(0)\n",
    "            if len(batch_center_words) > 0:\n",
    "                real_batch_size = len(batch_center_words)\n",
    "                negative_words = get_negative_samples(vocab_size, real_batch_size, negative_sample_num)\n",
    "                yield batch_center_words, batch_context_words, negative_words\n",
    "            "
   ]
  },
  {
   "cell_type": "markdown",
   "id": "ae0dedba",
   "metadata": {},
   "source": [
    "## 3. Skip-gram Model \n",
    "\n",
    "- Loss: 10 Points\n",
    "- Model: 10 Points"
   ]
  },
  {
   "cell_type": "code",
   "execution_count": 80,
   "id": "3379a333",
   "metadata": {},
   "outputs": [],
   "source": [
    "from tensorflow.keras import Model\n",
    "from tensorflow.keras.losses import Loss\n",
    "from tensorflow.keras.layers import Embedding\n",
    "        \n",
    "def negative_sampling_loss(center_embeddings, context_embeddings, negative_embeddings):\n",
    "    \"\"\" Calculate the negative sampling loss\n",
    "    \n",
    "    Args:\n",
    "        center_embeddings: v_c, (batch_size x embedding_dim)\n",
    "        context_embeddings: u_o, (batch_size x embedding_dim)\n",
    "        negative_embeddings: u_k, (batch_size x negative_sample_num x embedding_dim)\n",
    "    \"\"\"\n",
    "    loss = 0\n",
    "    # Start your code here\n",
    "    # 1. Calculate positive dot product\n",
    "    positive_dot_product = tf.reduce_sum(tf.multiply(center_embeddings, context_embeddings), axis=1)\n",
    "\n",
    "    # 2. loss for the positive pairs\n",
    "    positive_loss = tf.reduce_mean(tf.math.log_sigmoid(positive_dot_product))\n",
    "    \n",
    "    # 3. Calculate negative dot product\n",
    "    negative_dot_product = tf.reduce_sum(tf.multiply(center_embeddings[:, tf.newaxis, :], negative_embeddings), axis=2)\n",
    "    \n",
    "    # 4. loss for the negative words\n",
    "    negative_loss = tf.reduce_mean(tf.math.log_sigmoid(-negative_dot_product))\n",
    "    \n",
    "    # Hint: See tf.reduce_sum, tf.expand_dims, tf.reduce_mean for help\n",
    "    loss = - (positive_loss + negative_loss)\n",
    "    # End\n",
    "    return loss\n",
    "\n",
    "\n",
    "class SkipGram(Model):\n",
    "    def __init__(self, vocab_size: int, embedding_dim: int):\n",
    "        \"\"\" Skip-gram model.\n",
    "        \"\"\"\n",
    "        super().__init__()\n",
    "        self.vocab_size = vocab_size\n",
    "        self.embedding_dim = embedding_dim\n",
    "\n",
    "        # Start your code here\n",
    "        # Initialize embedding layers\n",
    "        self.center_embeddings = Embedding(input_dim=vocab_size, output_dim=embedding_dim, name='center_embedding')\n",
    "        self.context_embeddings = Embedding(input_dim=vocab_size, output_dim=embedding_dim, name='context_embedding')\n",
    "        # Hint: See tf.keras.layers.Embedding\n",
    "\n",
    "        # End\n",
    "        \n",
    "    def call(self, center_words, context_words, negative_words):\n",
    "        \"\"\" Forward of the skip-gram model\n",
    "        \n",
    "        Args:\n",
    "            center_words: tensor (batch_size, )\n",
    "            context_words: tensor (batch_size, )\n",
    "            negative_words: tensor (batch_size, negative_embeddings)\n",
    "            \n",
    "        Return:\n",
    "            center_embeddings, context_embeddings, negative_embeddings: The input for the negative_sampling_loss.\n",
    "        \"\"\"\n",
    "        # Start your code here\n",
    "        center_embeddings = self.center_embeddings(center_words)\n",
    "        context_embeddings = self.context_embeddings(context_words)\n",
    "        negative_embeddings = self.context_embeddings(negative_words)\n",
    "        # End\n",
    "        \n",
    "        return center_embeddings, context_embeddings, negative_embeddings"
   ]
  },
  {
   "cell_type": "code",
   "execution_count": 81,
   "id": "f2fab424",
   "metadata": {},
   "outputs": [],
   "source": [
    "vocab_size = len(tokenizer)\n",
    "embedding_dim = 64\n",
    "num_epoch = 2\n",
    "batch_size = 1024\n",
    "negative_sample_num = 5"
   ]
  },
  {
   "cell_type": "code",
   "execution_count": 82,
   "id": "0808f9f6",
   "metadata": {},
   "outputs": [],
   "source": [
    "model = SkipGram(vocab_size, embedding_dim)\n",
    "optimizer = tf.keras.optimizers.Adam(learning_rate=1e-3)"
   ]
  },
  {
   "cell_type": "code",
   "execution_count": 83,
   "id": "7612a303",
   "metadata": {},
   "outputs": [
    {
     "name": "stdout",
     "output_type": "stream",
     "text": [
      "Epoch 1 / 2 - Step 43325 / 43325 - loss: 0.3658\n",
      "Epoch 2 / 2 - Step 43325 / 43325 - loss: 0.3349\n"
     ]
    }
   ],
   "source": [
    "n_batch = int(np.ceil(num_samples / batch_size))\n",
    "train_gen = train_data_generator(batch_size, vocab_size, negative_sample_num)\n",
    "for epoch in range(num_epoch):\n",
    "    epoch_loss = 0.0\n",
    "    for batch_idx in range(n_batch):\n",
    "        batch = next(train_gen)\n",
    "        real_batch_size = len(batch[0])\n",
    "        batch = [tf.convert_to_tensor(d, tf.int64) for d in batch]\n",
    "\n",
    "        with tf.GradientTape() as tape:\n",
    "            output = model(*batch)\n",
    "            loss = negative_sampling_loss(*output)\n",
    "\n",
    "        if batch_idx % 10 == 0 or batch_idx == num_samples - 1:\n",
    "            print_line(f'Epoch {epoch + 1} / {num_epoch} - Step {batch_idx + 1} / {n_batch} - loss: {loss:.4f}')\n",
    "            \n",
    "        trainable_vars = model.trainable_variables\n",
    "        gradients = tape.gradient(loss, trainable_vars)\n",
    "\n",
    "        # Update weights\n",
    "        optimizer.apply_gradients(zip(gradients, trainable_vars))\n",
    "        epoch_loss += loss * real_batch_size\n",
    "    print(f'\\rEpoch {epoch + 1} / {num_epoch} - Step {n_batch} / {n_batch} - loss: {epoch_loss / num_samples:.4f}')"
   ]
  },
  {
   "cell_type": "markdown",
   "id": "8929c166",
   "metadata": {},
   "source": [
    "## 4. Visualization"
   ]
  },
  {
   "cell_type": "code",
   "execution_count": 84,
   "id": "7c2f1b73",
   "metadata": {},
   "outputs": [
    {
     "data": {
      "text/plain": [
       "(102300, 64)"
      ]
     },
     "execution_count": 84,
     "metadata": {},
     "output_type": "execute_result"
    }
   ],
   "source": [
    "# word_vecs = tf.concat([model.center_embeddings.weights[0], model.context_embeddings.weights[0]], axis=-1).numpy()\n",
    "center_vecs = model.center_embeddings.weights[0].numpy()\n",
    "center_vecs.shape"
   ]
  },
  {
   "cell_type": "code",
   "execution_count": 91,
   "id": "b9216be0",
   "metadata": {},
   "outputs": [
    {
     "data": {
      "image/png": "[encoded data removed]",
      "text/plain": [
       "<Figure size 640x480 with 1 Axes>"
      ]
     },
     "metadata": {},
     "output_type": "display_data"
    }
   ],
   "source": [
    "from matplotlib import pyplot as plt\n",
    "\n",
    "\n",
    "visualize_words = [\n",
    "    \"movie\", \"film\", \"story\",\n",
    "    \"good\", \"enjoyable\", \"great\", \"bad\",\n",
    "    \"coffee\", \"tea\", \"milk\"\n",
    "]\n",
    "\n",
    "# visualize_words = [\n",
    "#     \"shampoo\", \"baby\", \"flower\",\n",
    "#     \"photo\", \"chocolate\", \"cream\", \"chicken\",\n",
    "#     \"laptop\", \"cake\", \"hot\",\"camera\"\n",
    "# ]\n",
    "visualize_idx = [tokenizer.vocab[word] for word in visualize_words]\n",
    "visualize_vecs = center_vecs[visualize_idx, :]\n",
    "\n",
    "temp = (visualize_vecs - np.mean(visualize_vecs, axis=0))\n",
    "covariance = 1.0 / len(visualize_idx) * temp.T.dot(temp)\n",
    "U, S, V = np.linalg.svd(covariance)\n",
    "coord = temp.dot(U[:, 0:2])\n",
    "\n",
    "for i in range(len(visualize_words)):\n",
    "    plt.text(coord[i, 0], coord[i, 1], visualize_words[i],\n",
    "             bbox=dict(facecolor='green', alpha=0.1))\n",
    "\n",
    "plt.xlim((np.min(coord[:, 0]), np.max(coord[:, 0])))\n",
    "plt.ylim((np.min(coord[:, 1]), np.max(coord[:, 1])))\n",
    "\n",
    "plt.savefig('word_vectors.png')\n",
    "plt.show()"
   ]
  },
  {
   "cell_type": "code",
   "execution_count": 92,
   "id": "0a20e559",
   "metadata": {},
   "outputs": [],
   "source": [
    "def knn(vec, mat, k):\n",
    "    \"\"\" Implement the KNN algorithm based on cosine similarity, which will be used for analysis.\n",
    "\n",
    "        Args:\n",
    "            vec: numpy ndarray, the target vector\n",
    "            mat: numpy ndarray, a matrix contains all the vectors (each row is a vector)\n",
    "            k: the number of the nearest neighbors you want to find.\n",
    "            \n",
    "        Return:\n",
    "            indices: the k indices of the matrix's rows that are closest to the vec\n",
    "    \"\"\"\n",
    "    indicies = []\n",
    "    # Start your code here\n",
    "    # Note: DO NOT use for loop to calculate the similarity between two vectors. You are required to vectorize the calculation.\n",
    "    # Hint: See np.argsort\n",
    "    cos_similarities = np.dot(mat, vec) / (np.linalg.norm(mat, axis=1) * np.linalg.norm(vec))\n",
    "    indices = np.argsort(cos_similarities)[-k:][::-1]\n",
    "    # End\n",
    "    \n",
    "    return indices"
   ]
  },
  {
   "cell_type": "code",
   "execution_count": 93,
   "id": "4c0a50bc",
   "metadata": {},
   "outputs": [
    {
     "name": "stdout",
     "output_type": "stream",
     "text": [
      "Word: \"movie\" is close to ['movie', 'film', 'flick', 'movies', 'sequel', 'documentary', 'horror', 'cinema', 'anthology', 'feature']\n",
      "Word: \"film\" is close to ['film', 'movie', 'picture', 'documentary', 'cinema', 'sequel', 'feature', 'flick', 'films', 'rotterdam']\n",
      "Word: \"story\" is close to ['story', 'plot', 'stories', 'storyline', 'premise', 'tale', 'plotline', 'leisurely', 'plots', 'idea']\n",
      "Word: \"good\" is close to ['good', 'great', 'decent', 'bad', 'fine', 'nice', 'excellent', 'amazing', 'exceptional', 'interesting']\n",
      "Word: \"enjoyable\" is close to ['enjoyable', 'entertaining', 'lighthearted', 'middling', 'disappointing', 'fluff', 'escapist', 'hyped', 'verite', 'watchable']\n",
      "Word: \"great\" is close to ['great', 'amazing', 'good', 'wonderful', 'excellent', 'fine', 'awesome', 'nice', 'fantastic', 'exceptional']\n",
      "Word: \"bad\" is close to ['bad', 'terrible', 'horrible', 'awful', 'good', 'lame', 'stupid', 'lousy', 'atrocious', 'crappy']\n",
      "Word: \"coffee\" is close to ['coffee', 'booze', 'drinking', 'milk', 'farm', 'poison', 'pills', 'liquor', 'beer', 'wet']\n",
      "Word: \"tea\" is close to ['tea', 'coffee', 'cocoa', 'camford', 'wine', 'carmine', 'guinea', 'tester', 'manos', 'hassan']\n",
      "Word: \"milk\" is close to ['milk', 'soda', 'frozen', 'sucking', 'fried', 'wet', 'eating', 'bottles', 'cleaning', 'knee']\n"
     ]
    }
   ],
   "source": [
    "for word in visualize_words:\n",
    "    idx = tokenizer.vocab[word]\n",
    "    vec = center_vecs[idx]\n",
    "    indices = knn(vec, center_vecs, 10)\n",
    "    closed_words = [tokenizer.inverse_vocab[i] for i in indices]\n",
    "    print('Word: \"{}\" is close to {}'.format(word, closed_words))"
   ]
  },
  {
   "cell_type": "code",
   "execution_count": null,
   "id": "fa691b15",
   "metadata": {},
   "outputs": [],
   "source": []
  }
 ],
 "metadata": {
  "kernelspec": {
   "display_name": "Python 3 (ipykernel)",
   "language": "python",
   "name": "python3"
  },
  "language_info": {
   "codemirror_mode": {
    "name": "ipython",
    "version": 3
   },
   "file_extension": ".py",
   "mimetype": "text/x-python",
   "name": "python",
   "nbconvert_exporter": "python",
   "pygments_lexer": "ipython3",
   "version": "3.11.4"
  }
 },
 "nbformat": 4,
 "nbformat_minor": 5
}
